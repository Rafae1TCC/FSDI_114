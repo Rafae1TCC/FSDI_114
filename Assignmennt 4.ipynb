{
 "cells": [
  {
   "cell_type": "markdown",
   "id": "57d17132-3215-46a5-b7d6-1aa192381c24",
   "metadata": {},
   "source": [
    "# Recursive Functions\n",
    "\n",
    "A function is aid to be \"recursive\" if it calls itself atleast once during execution. Most reecursive functions have an exit condition typically referred to as the \"base case\"."
   ]
  },
  {
   "cell_type": "code",
   "execution_count": 3,
   "id": "51e6a9c1-25c7-4fb2-be90-f68a68dc0b0e",
   "metadata": {},
   "outputs": [],
   "source": [
    "# Factorials\n",
    "# The factorial of a number \"N\" is represented as N! and is equal to thhe produuct of N and all the numbers precedingg it, until reaching 1.\n",
    "# Example\n",
    "# 5! = 5x4x3x2x1\n",
    "# 5! = 5x4!\n",
    "# 4! = 4x3!\n",
    "# When it comes to factorials, a common convention is that 0! = 1\n",
    "\n",
    "def factorial(n):\n",
    "    if n == 0:\n",
    "        return 1\n",
    "    return n * factorial(n-1)"
   ]
  },
  {
   "cell_type": "code",
   "execution_count": null,
   "id": "a8b0c1eb-912a-47a1-a6d5-464dfb7d0864",
   "metadata": {},
   "outputs": [],
   "source": [
    "factorial(5)"
   ]
  },
  {
   "cell_type": "code",
   "execution_count": null,
   "id": "711ed564-9e53-497a-ac24-e2611c6f7d35",
   "metadata": {},
   "outputs": [],
   "source": [
    "# Fibonacci\n",
    "# Fibonacci is a series of numbers given by the following equation:\n",
    "# Fn = F(n-1) + F(n-2)\n",
    "# There are two absolute base cases:\n",
    "# F0 = 0\n",
    "# F1 = 1\n",
    "# Example:\n",
    "# 0, 1, 1, 2, 3, 5, 8, 13, 21...\n",
    "\n",
    "def fibonacci(n):\n",
    "    if n < 2:\n",
    "        return n\n",
    "    return fibonacci(n-1) + fibonacci(n-2)"
   ]
  },
  {
   "cell_type": "code",
   "execution_count": null,
   "id": "fabb8c23-83f6-48ce-8096-23ba549d5c73",
   "metadata": {},
   "outputs": [],
   "source": [
    "fibonacci(10)"
   ]
  },
  {
   "cell_type": "code",
   "execution_count": null,
   "id": "4873d728-e064-4a31-a99f-1b9b7b22d39e",
   "metadata": {},
   "outputs": [],
   "source": [
    "cache = {}\n",
    "def fib(n):\n",
    "    if n in cache:\n",
    "        return cache[n]\n",
    "    if n < 2:\n",
    "        return n\n",
    "    cache[n] = fib(n-1) + fib(n-2)\n",
    "    return cache[n]"
   ]
  },
  {
   "cell_type": "code",
   "execution_count": null,
   "id": "d27f2481-4dd8-4f52-b9a0-994fc38de2ab",
   "metadata": {},
   "outputs": [],
   "source": [
    "fib(5)"
   ]
  },
  {
   "cell_type": "code",
   "execution_count": null,
   "id": "09e98686-1cb8-44bc-b9cc-39390c776941",
   "metadata": {},
   "outputs": [],
   "source": [
    "key = [0, 0, 0, 0, 0, 0, 0, 0, 52, 0, 0]\n",
    "value = [0, 0, 0, 0, 0, 0, 0, 0, 32951280099, 0, 0]\n",
    "\n",
    "def simple_hash(param):\n",
    "    return param%len(key)"
   ]
  },
  {
   "cell_type": "code",
   "execution_count": null,
   "id": "ca56e802-1301-4c06-8d56-ed34f999a16e",
   "metadata": {},
   "outputs": [],
   "source": [
    "print(simple_hash(52))"
   ]
  },
  {
   "cell_type": "code",
   "execution_count": null,
   "id": "c640460b-b9f7-4984-835b-fd31b215bb01",
   "metadata": {},
   "outputs": [],
   "source": [
    "77++2"
   ]
  },
  {
   "cell_type": "code",
   "execution_count": null,
   "id": "54bd6085-d572-4a14-a9af-4c9fcd39f3b1",
   "metadata": {},
   "outputs": [],
   "source": []
  }
 ],
 "metadata": {
  "kernelspec": {
   "display_name": "Python 3 (ipykernel)",
   "language": "python",
   "name": "python3"
  },
  "language_info": {
   "codemirror_mode": {
    "name": "ipython",
    "version": 3
   },
   "file_extension": ".py",
   "mimetype": "text/x-python",
   "name": "python",
   "nbconvert_exporter": "python",
   "pygments_lexer": "ipython3",
   "version": "3.12.3"
  }
 },
 "nbformat": 4,
 "nbformat_minor": 5
}
