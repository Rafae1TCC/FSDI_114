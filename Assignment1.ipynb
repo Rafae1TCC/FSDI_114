{
 "cells": [
  {
   "cell_type": "code",
   "execution_count": 1,
   "id": "4082d897-6ffc-43f4-a07a-c44ee7e2ba92",
   "metadata": {},
   "outputs": [
    {
     "name": "stdout",
     "output_type": "stream",
     "text": [
      "h\n",
      "e\n",
      "l\n",
      "l\n",
      "o\n",
      ",\n",
      " \n",
      "w\n",
      "o\n",
      "r\n",
      "l\n",
      "d\n"
     ]
    }
   ],
   "source": [
    "for char in \"hello, world\":\n",
    "    print(char)"
   ]
  },
  {
   "cell_type": "markdown",
   "id": "03da7c3a-21d0-471e-b1f7-ad90d646f5e8",
   "metadata": {},
   "source": [
    "# Problem 1\n",
    "\n",
    "Given a pair of strings, determine if these strings are anagrams of each other. Return True if they are, False otherwise.\n",
    "\n",
    "## Criteria\n",
    "\n",
    "Two strings are said to be anagras of each other of all the criteria below are met:\n",
    "1. They must use the same letters, the same amount of times.\n",
    "2. They must be of equal length.\n",
    "\n",
    "## Examples\n",
    "\n",
    "```\n",
    "earth and heart\n",
    "cars and scar\n",
    "rats and star\n",
    "etc\n",
    "```"
   ]
  },
  {
   "cell_type": "code",
   "execution_count": 6,
   "id": "ba2b2075-b23c-4f80-9fa7-e937f5817a1e",
   "metadata": {},
   "outputs": [],
   "source": [
    "# Don't do this! One liners are no good in an interview setting.\n",
    "def anagram_check(string1, string2):\n",
    "    # string1 = (string1.replace(\" \", \"\")).lower()\n",
    "    # string2 = (string2.replace(\" \", \"\")).lower()\n",
    "    return sorted(string1) == sorted(string2)"
   ]
  },
  {
   "cell_type": "code",
   "execution_count": 7,
   "id": "c22c49d8-44d8-4112-87b7-3787a25d758f",
   "metadata": {},
   "outputs": [
    {
     "data": {
      "text/plain": [
       "False"
      ]
     },
     "execution_count": 7,
     "metadata": {},
     "output_type": "execute_result"
    }
   ],
   "source": [
    "anagram_check(\"I am Lord Voldemort\", \"Tom Marvolo Riddle\")"
   ]
  },
  {
   "cell_type": "code",
   "execution_count": 6,
   "id": "548b8162-3ec5-48cc-91c8-c60cf6720077",
   "metadata": {},
   "outputs": [
    {
     "data": {
      "text/plain": [
       "'a'"
      ]
     },
     "execution_count": 6,
     "metadata": {},
     "output_type": "execute_result"
    }
   ],
   "source": [
    "# The name was chosen because \"Tom Marvolo Riddle\" is an anagram of \"I am Lord Voldemort\"\n",
    "# These two strings should be anagrams of each other, so they should return True.\n",
    "chr(ord(\"A\")+32)"
   ]
  },
  {
   "cell_type": "code",
   "execution_count": 7,
   "id": "e506a225-3892-4f82-96b2-637fd8f2285b",
   "metadata": {},
   "outputs": [],
   "source": [
    "# define my function \"anagram_check\" with parameters: s1 and s2 (of type string):\n",
    "# s1 = s1 without spaces and in lower case\n",
    "# s2 = s2 without spaces and in lower case\n",
    "# if the length of s1 is not equal to the length of s2:\n",
    "#    return false\n",
    "# else\n",
    "#    d1 = new dictionary\n",
    "#    d2 = new dictionary\n",
    "#    for each number in the range from 0 to the length of s1:\n",
    "#        if the character at position \"number\" in s1 is in d1:\n",
    "#            add 1 to the number of times i've seen that character in d1\n",
    "#        else:\n",
    "#            create a new entry for that character in d1 and set the value to 1\n",
    "#        if the character at position \"number\" in s2 is in d2:\n",
    "#            add 1 to the number of times i've seen that character in d2\n",
    "#        else:\n",
    "#            create a new entry for that character in d2 and set the value to 1\n",
    "#    if d1 is equal to d2:\n",
    "#        return True\n",
    "#    else\n",
    "#        return False"
   ]
  },
  {
   "cell_type": "code",
   "execution_count": 16,
   "id": "72bd0924-6ee4-4d95-a5f5-d97b2a333beb",
   "metadata": {},
   "outputs": [],
   "source": [
    "def anagram_check(s1, s2):\n",
    "\n",
    "    # Remove spaces and convert to lowercase\n",
    "    s1 = s1.replace(\" \", \"\").lower()\n",
    "    s2 = s2.replace(\" \", \"\").lower()\n",
    "    \n",
    "    # Check if lengths are equal\n",
    "    if len(s1) != len(s2):\n",
    "        return False\n",
    "    else:\n",
    "        # Initialize dictionaries to count characters\n",
    "        d1 = {}\n",
    "        d2 = {}\n",
    "            \n",
    "        # Count characters in s1\n",
    "        \n",
    "        for char in s1:\n",
    "            if char in d1:\n",
    "                d1[char] += 1\n",
    "            else:\n",
    "                d1[char] = 1\n",
    "                    \n",
    "        # Count characters in s2\n",
    "        for char in s2:\n",
    "            if char in d2:\n",
    "                d2[char] += 1 \n",
    "            else:\n",
    "                d2[char] = 1\n",
    "        \n",
    "        return d1 == d2\n",
    "            "
   ]
  },
  {
   "cell_type": "code",
   "execution_count": 17,
   "id": "8e508c2e-d374-4548-89c8-154ea3312e37",
   "metadata": {},
   "outputs": [
    {
     "data": {
      "text/plain": [
       "True"
      ]
     },
     "execution_count": 17,
     "metadata": {},
     "output_type": "execute_result"
    }
   ],
   "source": [
    "anagram_check(\"I am Lord Voldemort\", \"Tom Marvolo Riddle\")"
   ]
  },
  {
   "cell_type": "code",
   "execution_count": null,
   "id": "3f49f34b-5c78-4401-921e-968a08a35359",
   "metadata": {},
   "outputs": [],
   "source": []
  }
 ],
 "metadata": {
  "kernelspec": {
   "display_name": "Python 3 (ipykernel)",
   "language": "python",
   "name": "python3"
  },
  "language_info": {
   "codemirror_mode": {
    "name": "ipython",
    "version": 3
   },
   "file_extension": ".py",
   "mimetype": "text/x-python",
   "name": "python",
   "nbconvert_exporter": "python",
   "pygments_lexer": "ipython3",
   "version": "3.12.3"
  }
 },
 "nbformat": 4,
 "nbformat_minor": 5
}
